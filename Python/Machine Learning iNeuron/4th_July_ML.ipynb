{
 "cells": [
  {
   "cell_type": "markdown",
   "metadata": {},
   "source": [
    "Encapsulation\n",
    "->below we are passing class object t,e,b to car class and hiding the classes Tyres,Engine,Body and passing objects to car"
   ]
  },
  {
   "cell_type": "code",
   "execution_count": 9,
   "metadata": {},
   "outputs": [
    {
     "name": "stdout",
     "output_type": "stream",
     "text": [
      "Tyres: \n",
      " \tBranchPirelli\n",
      " \tBelted-bias:True\n",
      " \tOptimal pressure 2.0\n",
      "Engine \n",
      " \tFuel type:Diesel\n",
      " \tNoise Level:3\n",
      "Body \n",
      " \tMedium\n"
     ]
    }
   ],
   "source": [
    "class Tyres:\n",
    "    def __init__(self,branch,belted_bias,opt_pressure):\n",
    "        self.branch=branch\n",
    "        self.belted_bias=belted_bias\n",
    "        self.opt_pressure=opt_pressure\n",
    "    def __str__(self):\n",
    "        return ('Tyres: \\n \\tBranch'+self.branch+\n",
    "               '\\n \\tBelted-bias:' +str(self.belted_bias)+\n",
    "               '\\n \\tOptimal pressure '+str(self.opt_pressure))\n",
    "\n",
    "class Engine:\n",
    "    def __init__(self,fuel_type,noise_level):\n",
    "        self.fuel_type=fuel_type\n",
    "        self.noise_level=noise_level\n",
    "    def __str__(self):\n",
    "        return ('Engine \\n \\tFuel type:'+ self.fuel_type+\n",
    "               '\\n \\tNoise Level:'+str(self.noise_level))\n",
    "    \n",
    "    \n",
    "class Body:\n",
    "    def __init__(self,size):\n",
    "        self.size=size\n",
    "    def __str__(self):\n",
    "        return 'Body \\n \\t'+self.size\n",
    "    \n",
    "class Car:\n",
    "    def __init__(self,tyres,engine,body):\n",
    "        self.tyres=tyres\n",
    "        self.engine=engine\n",
    "        self.body=body\n",
    "    def tyrespec(self):\n",
    "        return self.tyres\n",
    "        \n",
    "    def __str__(self):\n",
    "        return str(self.tyres)+ '\\n'+str(self.engine)+ '\\n'+str(self.body)\n",
    "    \n",
    "    \n",
    "t=Tyres('Pirelli',True,2.0)    \n",
    "e=Engine('Diesel',3)\n",
    "b=Body('Medium')\n",
    "c=Car(t,e,b)\n",
    "print(c)"
   ]
  },
  {
   "cell_type": "code",
   "execution_count": 13,
   "metadata": {},
   "outputs": [
    {
     "name": "stdout",
     "output_type": "stream",
     "text": [
      "Tyres: \n",
      " \tBranchPirelli\n",
      " \tBelted-bias:True\n",
      " \tOptimal pressure 2.0\n",
      "Engine \n",
      " \tFuel type:Diesel\n",
      " \tNoise Level:3\n",
      "Body \n",
      " \tMedium\n",
      "\n",
      "In Car function Tyres: \n",
      " \tBranchPirelli\n",
      " \tBelted-bias:True\n",
      " \tOptimal pressure 2.0\n"
     ]
    }
   ],
   "source": [
    "car=Car(t,e,b)\n",
    "print(car)\n",
    "print('\\nIn Car function',car.tyrespec())"
   ]
  },
  {
   "cell_type": "markdown",
   "metadata": {},
   "source": [
    "Composite and Dynamic extension(Type of Encapsulation)\n",
    "Composite->all the variable of of class are object like car(t,e,b)\n",
    "Dynamic->where some varible are class object in the class like Kudrjavka_student=Student(kudrjavka,2)"
   ]
  },
  {
   "cell_type": "code",
   "execution_count": 15,
   "metadata": {},
   "outputs": [
    {
     "name": "stdout",
     "output_type": "stream",
     "text": [
      "kudrjavka is a 1954 born in Laika\n"
     ]
    }
   ],
   "source": [
    "class Dog:\n",
    "    def __init__(self,name,year_of_birth,breed):\n",
    "        self._name=name\n",
    "        self._year_of_birth=year_of_birth\n",
    "        self._breed=breed\n",
    "    def __str__(self):\n",
    "        return '{} is a {} born in {}'.format(self._name,self._year_of_birth,self._breed)\n",
    "\n",
    "kudrjavka=Dog('kudrjavka',1954,'Laika')\n",
    "print(kudrjavka)"
   ]
  },
  {
   "cell_type": "code",
   "execution_count": 16,
   "metadata": {},
   "outputs": [],
   "source": [
    "class Student:\n",
    "    def __init__(self,anagraphic,student_id):\n",
    "        self._anagraphic=anagraphic\n",
    "        self._student_id=student_id\n",
    "        \n",
    "    def __str__(self):\n",
    "        return str(self._anagraphic)+'Student ID:%d'%self._student_id\n",
    "    "
   ]
  },
  {
   "cell_type": "code",
   "execution_count": 18,
   "metadata": {},
   "outputs": [
    {
     "name": "stdout",
     "output_type": "stream",
     "text": [
      "ParagStudent ID:1\n",
      "kudrjavka is a 1954 born in LaikaStudent ID:2\n"
     ]
    }
   ],
   "source": [
    "alec_student=Student('Parag',1)\n",
    "Kudrjavka_student=Student(kudrjavka,2)\n",
    "\n",
    "print(alec_student)\n",
    "print(Kudrjavka_student)"
   ]
  },
  {
   "cell_type": "markdown",
   "metadata": {},
   "source": [
    "Pratice encapsulation"
   ]
  },
  {
   "cell_type": "code",
   "execution_count": 71,
   "metadata": {},
   "outputs": [],
   "source": [
    "class A1:\n",
    "    def __init__(self,a1,a2,a3):\n",
    "        self.a1=a1\n",
    "        self.a2=a2\n",
    "        self.a3=a3\n",
    "    def m1(self):\n",
    "        return (str(self.a1)+str(self.a2)+str(self.a3))\n",
    "        \n",
    "    \n",
    "class B2:\n",
    "    def __init__(self,b1,b2,b3):\n",
    "        self.b1=b1\n",
    "        self.b2=b2\n",
    "        self.b3=b3\n",
    "    def m2(self):\n",
    "        return (self.b1+self.b2+self.b3)\n",
    "        \n",
    "class C3:\n",
    "    def __init__(self,c1,c2,c3):\n",
    "        self.c1=c1\n",
    "        self.c2=c2\n",
    "        self.c3=c3\n",
    "    def m3(self):\n",
    "        return (self.c1+self.c2+self.c3)\n",
    "        \n",
    "class D4:\n",
    "    def __init__(self,d1,d2,d3):\n",
    "        self.d1=d1\n",
    "        self.d2=d2\n",
    "        self.d3=d3\n",
    "    def m4(self):\n",
    "        return ('d1:{} \\nd2:{} \\nd3:{}'.format(self.d1.m1(),self.d2.m2(),self.d3.m3()))\n",
    "    \n",
    "        \n",
    "    \n",
    "    \n",
    "    "
   ]
  },
  {
   "cell_type": "code",
   "execution_count": 72,
   "metadata": {},
   "outputs": [
    {
     "name": "stdout",
     "output_type": "stream",
     "text": [
      "d1:123 \n",
      "d2:15 \n",
      "d3:24\n"
     ]
    }
   ],
   "source": [
    "a=A1(1,2,3)\n",
    "#a=A1('parag','bhar',2)\n",
    "b=B2(4,5,6)\n",
    "c=C3(7,8,9)\n",
    "\n",
    "d=D4(a,b,c)\n",
    "\n",
    "print(d.m4())\n"
   ]
  },
  {
   "cell_type": "code",
   "execution_count": null,
   "metadata": {},
   "outputs": [],
   "source": []
  },
  {
   "cell_type": "code",
   "execution_count": null,
   "metadata": {},
   "outputs": [],
   "source": []
  },
  {
   "cell_type": "code",
   "execution_count": null,
   "metadata": {},
   "outputs": [],
   "source": []
  },
  {
   "cell_type": "code",
   "execution_count": null,
   "metadata": {},
   "outputs": [],
   "source": []
  },
  {
   "cell_type": "code",
   "execution_count": null,
   "metadata": {},
   "outputs": [],
   "source": []
  },
  {
   "cell_type": "code",
   "execution_count": null,
   "metadata": {},
   "outputs": [],
   "source": []
  },
  {
   "cell_type": "code",
   "execution_count": null,
   "metadata": {},
   "outputs": [],
   "source": []
  },
  {
   "cell_type": "code",
   "execution_count": null,
   "metadata": {},
   "outputs": [],
   "source": []
  },
  {
   "cell_type": "code",
   "execution_count": null,
   "metadata": {},
   "outputs": [],
   "source": []
  },
  {
   "cell_type": "code",
   "execution_count": null,
   "metadata": {},
   "outputs": [],
   "source": []
  },
  {
   "cell_type": "code",
   "execution_count": null,
   "metadata": {},
   "outputs": [],
   "source": []
  },
  {
   "cell_type": "code",
   "execution_count": null,
   "metadata": {},
   "outputs": [],
   "source": []
  },
  {
   "cell_type": "code",
   "execution_count": null,
   "metadata": {},
   "outputs": [],
   "source": []
  },
  {
   "cell_type": "code",
   "execution_count": null,
   "metadata": {},
   "outputs": [],
   "source": []
  },
  {
   "cell_type": "code",
   "execution_count": null,
   "metadata": {},
   "outputs": [],
   "source": []
  },
  {
   "cell_type": "code",
   "execution_count": null,
   "metadata": {},
   "outputs": [],
   "source": []
  },
  {
   "cell_type": "code",
   "execution_count": null,
   "metadata": {},
   "outputs": [],
   "source": []
  },
  {
   "cell_type": "code",
   "execution_count": null,
   "metadata": {},
   "outputs": [],
   "source": []
  }
 ],
 "metadata": {
  "kernelspec": {
   "display_name": "Python 3",
   "language": "python",
   "name": "python3"
  },
  "language_info": {
   "codemirror_mode": {
    "name": "ipython",
    "version": 3
   },
   "file_extension": ".py",
   "mimetype": "text/x-python",
   "name": "python",
   "nbconvert_exporter": "python",
   "pygments_lexer": "ipython3",
   "version": "3.7.6"
  }
 },
 "nbformat": 4,
 "nbformat_minor": 4
}
