{
 "cells": [
  {
   "cell_type": "markdown",
   "metadata": {},
   "source": [
    "Try and Except"
   ]
  },
  {
   "cell_type": "code",
   "execution_count": 3,
   "metadata": {},
   "outputs": [
    {
     "name": "stdout",
     "output_type": "stream",
     "text": [
      "enter a numberfdh\n",
      "there is an error in my code invalid literal for int() with base 10: 'fdh'\n"
     ]
    }
   ],
   "source": [
    "try:\n",
    "    a=int(input('enter a number'))\n",
    "    b=int(input('enter a second number'))\n",
    "    c=a/b\n",
    "except Exception as e:\n",
    "    print('there is an error in my code',e)"
   ]
  },
  {
   "cell_type": "markdown",
   "metadata": {},
   "source": [
    "Value Error"
   ]
  },
  {
   "cell_type": "code",
   "execution_count": 5,
   "metadata": {},
   "outputs": [
    {
     "name": "stdout",
     "output_type": "stream",
     "text": [
      "enter a numberfdhd\n",
      "there is an error in my code\n"
     ]
    }
   ],
   "source": [
    "try:\n",
    "    a=int(input('enter a number'))\n",
    "    b=int(input('enter a second number'))\n",
    "    c=a/b\n",
    "except ValueError:\n",
    "    print('there is an error in my code')"
   ]
  },
  {
   "cell_type": "markdown",
   "metadata": {},
   "source": [
    "Hierarchy of error in except block"
   ]
  },
  {
   "cell_type": "code",
   "execution_count": 10,
   "metadata": {},
   "outputs": [
    {
     "name": "stdout",
     "output_type": "stream",
     "text": [
      "enter a number-qdasdasd\n",
      "there is an error in my code ValueError,2nd except\n"
     ]
    }
   ],
   "source": [
    "try:\n",
    "    a=int(input('enter a number-'))\n",
    "    b=int(input('enter a second number-'))\n",
    "    c=a/b\n",
    "    print(c)\n",
    "except IOError:\n",
    "    print('there is error in my code,1st except')\n",
    "except ValueError:\n",
    "    print('there is an error in my code ValueError,2nd except')"
   ]
  },
  {
   "cell_type": "code",
   "execution_count": 12,
   "metadata": {},
   "outputs": [
    {
     "name": "stdout",
     "output_type": "stream",
     "text": [
      "enter a number-sdfsd\n",
      "this is a super class of except\n"
     ]
    }
   ],
   "source": [
    "try:\n",
    "    a=int(input('enter a number-'))\n",
    "    b=int(input('enter a second number-'))\n",
    "    c=a/b\n",
    "    print(c)\n",
    "except Exception :\n",
    "    print('this is a super class of except')\n",
    "except IOError:\n",
    "    print('there is error in my code,1st except')\n",
    "except SyntaxError:\n",
    "    print('this is a Syntaxerror')\n",
    "except ValueError:\n",
    "    print('there is an error in my code ValueError,3nd except')"
   ]
  },
  {
   "cell_type": "code",
   "execution_count": 13,
   "metadata": {},
   "outputs": [
    {
     "name": "stdout",
     "output_type": "stream",
     "text": [
      "enter a number-safsa\n",
      "there is an error in my code ValueError,3nd except\n"
     ]
    }
   ],
   "source": [
    "try:\n",
    "    a=int(input('enter a number-'))\n",
    "    b=int(input('enter a second number-'))\n",
    "    c=a/b\n",
    "    print(c)\n",
    "\n",
    "except IOError:\n",
    "    print('there is error in my code,1st except')\n",
    "except SyntaxError:\n",
    "    print('this is a Syntaxerror')\n",
    "except ValueError:\n",
    "    print('there is an error in my code ValueError,3nd except')\n",
    "except Exception :\n",
    "    print('this is a super class of except')"
   ]
  },
  {
   "cell_type": "markdown",
   "metadata": {},
   "source": [
    "Can declare many error in one line"
   ]
  },
  {
   "cell_type": "code",
   "execution_count": 15,
   "metadata": {},
   "outputs": [
    {
     "name": "stdout",
     "output_type": "stream",
     "text": [
      "enter a number-sfsd\n",
      "there is error\n"
     ]
    }
   ],
   "source": [
    "try:\n",
    "    a=int(input('enter a number-'))\n",
    "    b=int(input('enter a second number-'))\n",
    "    c=a/b\n",
    "    print(c)\n",
    "except (IOError,SyntaxError,ValueError):\n",
    "    print('there is error')\n",
    "    "
   ]
  },
  {
   "cell_type": "code",
   "execution_count": 16,
   "metadata": {},
   "outputs": [
    {
     "name": "stdout",
     "output_type": "stream",
     "text": [
      "enter a number-zxfsd\n",
      "there is error\n"
     ]
    }
   ],
   "source": [
    "try:\n",
    "    a=int(input('enter a number-'))\n",
    "    b=int(input('enter a second number-'))\n",
    "    c=a/b\n",
    "    print(c)\n",
    "except (IOError,SyntaxError,Exception):\n",
    "    print('there is error')"
   ]
  },
  {
   "cell_type": "code",
   "execution_count": 19,
   "metadata": {},
   "outputs": [
    {
     "name": "stdout",
     "output_type": "stream",
     "text": [
      "enter a number-asfsad\n",
      "this is my finally block\n"
     ]
    },
    {
     "ename": "ValueError",
     "evalue": "invalid literal for int() with base 10: 'asfsad'",
     "output_type": "error",
     "traceback": [
      "\u001b[1;31m---------------------------------------------------------------------------\u001b[0m",
      "\u001b[1;31mValueError\u001b[0m                                Traceback (most recent call last)",
      "\u001b[1;32m<ipython-input-19-1ff3eb321ad9>\u001b[0m in \u001b[0;36m<module>\u001b[1;34m\u001b[0m\n\u001b[0;32m      1\u001b[0m \u001b[1;32mtry\u001b[0m\u001b[1;33m:\u001b[0m\u001b[1;33m\u001b[0m\u001b[1;33m\u001b[0m\u001b[0m\n\u001b[1;32m----> 2\u001b[1;33m     \u001b[0ma\u001b[0m\u001b[1;33m=\u001b[0m\u001b[0mint\u001b[0m\u001b[1;33m(\u001b[0m\u001b[0minput\u001b[0m\u001b[1;33m(\u001b[0m\u001b[1;34m'enter a number-'\u001b[0m\u001b[1;33m)\u001b[0m\u001b[1;33m)\u001b[0m\u001b[1;33m\u001b[0m\u001b[1;33m\u001b[0m\u001b[0m\n\u001b[0m\u001b[0;32m      3\u001b[0m     \u001b[0mb\u001b[0m\u001b[1;33m=\u001b[0m\u001b[0mint\u001b[0m\u001b[1;33m(\u001b[0m\u001b[0minput\u001b[0m\u001b[1;33m(\u001b[0m\u001b[1;34m'enter a second number-'\u001b[0m\u001b[1;33m)\u001b[0m\u001b[1;33m)\u001b[0m\u001b[1;33m\u001b[0m\u001b[1;33m\u001b[0m\u001b[0m\n\u001b[0;32m      4\u001b[0m     \u001b[0mc\u001b[0m\u001b[1;33m=\u001b[0m\u001b[0ma\u001b[0m\u001b[1;33m/\u001b[0m\u001b[0mb\u001b[0m\u001b[1;33m\u001b[0m\u001b[1;33m\u001b[0m\u001b[0m\n\u001b[0;32m      5\u001b[0m     \u001b[0mprint\u001b[0m\u001b[1;33m(\u001b[0m\u001b[0mc\u001b[0m\u001b[1;33m)\u001b[0m\u001b[1;33m\u001b[0m\u001b[1;33m\u001b[0m\u001b[0m\n",
      "\u001b[1;31mValueError\u001b[0m: invalid literal for int() with base 10: 'asfsad'"
     ]
    }
   ],
   "source": [
    "try:\n",
    "    a=int(input('enter a number-'))\n",
    "    b=int(input('enter a second number-'))\n",
    "    c=a/b\n",
    "    print(c)\n",
    "finally:\n",
    "    print('this is my finally block')"
   ]
  },
  {
   "cell_type": "code",
   "execution_count": 28,
   "metadata": {},
   "outputs": [],
   "source": [
    "def askint():\n",
    "    try:\n",
    "        val=int(input('Please enter an integer:'))\n",
    "    except:\n",
    "        print('Look like you did not enter an integer')\n",
    "    finally:\n",
    "        print('Finally,I executed')\n",
    "    try:\n",
    "        print(val)\n",
    "    except:\n",
    "        print('This is an issue with val variable')"
   ]
  },
  {
   "cell_type": "code",
   "execution_count": 29,
   "metadata": {},
   "outputs": [
    {
     "name": "stdout",
     "output_type": "stream",
     "text": [
      "Please enter an integer:asfsa\n",
      "Look like you did not enter an integer\n",
      "Finally,I executed\n",
      "This is an issue with val variable\n"
     ]
    }
   ],
   "source": [
    "askint()"
   ]
  },
  {
   "cell_type": "code",
   "execution_count": 32,
   "metadata": {},
   "outputs": [
    {
     "name": "stdout",
     "output_type": "stream",
     "text": [
      "Please enter an integer:asfsd\n",
      "Look like you did not enter an integer!\n",
      "Please re-enter an integer:dfsdf\n",
      "handle it\n",
      "Finally,I executed\n"
     ]
    }
   ],
   "source": [
    "def askint():\n",
    "    try:\n",
    "        val=int(input('Please enter an integer:'))\n",
    "    except:\n",
    "        print('Look like you did not enter an integer!')\n",
    "        try:\n",
    "            val=int(input('Please re-enter an integer:'))\n",
    "        except:\n",
    "            print('handle it')\n",
    "        finally:\n",
    "            print('Finally,I executed')\n",
    "askint()         "
   ]
  },
  {
   "cell_type": "code",
   "execution_count": 38,
   "metadata": {
    "scrolled": true
   },
   "outputs": [
    {
     "name": "stdout",
     "output_type": "stream",
     "text": [
      "Please enter an integer:sdfsd\n",
      "Look like you did not enter an integer!\n",
      "Finally,I executed\n",
      "Please enter an integer:asdas\n",
      "Look like you did not enter an integer!\n",
      "Finally,I executed\n",
      "Please enter an integer:123\n",
      "Yep thats an integer!\n",
      "Finally,I executed\n"
     ]
    }
   ],
   "source": [
    "def askint():\n",
    "    while True:\n",
    "        try:\n",
    "            val=int(input('Please enter an integer:'))\n",
    "        except:\n",
    "            print('Look like you did not enter an integer!')\n",
    "            continue\n",
    "        else:\n",
    "            print('Yep thats an integer!')\n",
    "            break\n",
    "        finally:\n",
    "            print('Finally,I executed')\n",
    "            \n",
    "askint()"
   ]
  },
  {
   "cell_type": "markdown",
   "metadata": {},
   "source": [
    "Example-"
   ]
  },
  {
   "cell_type": "code",
   "execution_count": 43,
   "metadata": {},
   "outputs": [
    {
     "name": "stdout",
     "output_type": "stream",
     "text": [
      "Cannot open due to error-\n"
     ]
    }
   ],
   "source": [
    "try:\n",
    "    f=open('xyz.txt','r')\n",
    "    f.write('abcbaos')\n",
    "#except FileNotFoundError:\n",
    "#except Exception as e:\n",
    "    print('Cannot open due to error-')\n",
    "    "
   ]
  },
  {
   "cell_type": "code",
   "execution_count": null,
   "metadata": {},
   "outputs": [],
   "source": []
  },
  {
   "cell_type": "code",
   "execution_count": null,
   "metadata": {},
   "outputs": [],
   "source": []
  },
  {
   "cell_type": "code",
   "execution_count": null,
   "metadata": {},
   "outputs": [],
   "source": []
  },
  {
   "cell_type": "code",
   "execution_count": null,
   "metadata": {},
   "outputs": [],
   "source": []
  },
  {
   "cell_type": "code",
   "execution_count": null,
   "metadata": {},
   "outputs": [],
   "source": []
  },
  {
   "cell_type": "code",
   "execution_count": null,
   "metadata": {},
   "outputs": [],
   "source": [
    "a"
   ]
  },
  {
   "cell_type": "code",
   "execution_count": null,
   "metadata": {},
   "outputs": [],
   "source": []
  },
  {
   "cell_type": "code",
   "execution_count": null,
   "metadata": {},
   "outputs": [],
   "source": []
  },
  {
   "cell_type": "code",
   "execution_count": null,
   "metadata": {},
   "outputs": [],
   "source": []
  }
 ],
 "metadata": {
  "kernelspec": {
   "display_name": "Python 3",
   "language": "python",
   "name": "python3"
  },
  "language_info": {
   "codemirror_mode": {
    "name": "ipython",
    "version": 3
   },
   "file_extension": ".py",
   "mimetype": "text/x-python",
   "name": "python",
   "nbconvert_exporter": "python",
   "pygments_lexer": "ipython3",
   "version": "3.7.6"
  }
 },
 "nbformat": 4,
 "nbformat_minor": 4
}
