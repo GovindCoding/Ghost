{
 "cells": [
  {
   "cell_type": "markdown",
   "metadata": {},
   "source": [
    "Protect your abstraction\n",
    "->keyword does not exit in python by notation is used\n",
    "->'_' is protected notation\n",
    "->To call a protected varaible you need to use '__'"
   ]
  },
  {
   "cell_type": "code",
   "execution_count": 9,
   "metadata": {},
   "outputs": [],
   "source": [
    "class Person:\n",
    "    def __init__(self,name,surname,year_of_birth):\n",
    "        self._name=name\n",
    "        self._surname=surname\n",
    "        self._year_of_birth=year_of_birth\n",
    "        \n",
    "    def age(self,current_year):\n",
    "        return ('age is',current_year - self._year_of_birth)\n",
    "    \n",
    "    def concatlist(b,lst1,lst2):\n",
    "        return lst1+lst2\n",
    "    \n",
    "    #inbuilt function\n",
    "    def __str__(self): \n",
    "        return '%s %s was born in %d.'%(self._name,self._surname,self._year_of_birth)\n",
    "    \n"
   ]
  },
  {
   "cell_type": "code",
   "execution_count": 32,
   "metadata": {},
   "outputs": [
    {
     "name": "stdout",
     "output_type": "stream",
     "text": [
      "Parag Naik was born in 1994.\n",
      "Parag\n",
      "Naik\n",
      "{'_name': 'Parag', '_surname': 'Naik', '_year_of_birth': 1994}\n"
     ]
    }
   ],
   "source": [
    "alex=Person('Parag','Naik',1994)\n",
    "print(alex)\n",
    "print(alex._name)\n",
    "#print(alex.surname) #will throw an error as the variable is protected as we have not use '_'\n",
    "print(alex._surname)\n",
    "print(alex.__dict__) ###########see this line,if you have confusion #########"
   ]
  },
  {
   "cell_type": "code",
   "execution_count": null,
   "metadata": {},
   "outputs": [],
   "source": []
  },
  {
   "cell_type": "code",
   "execution_count": null,
   "metadata": {},
   "outputs": [],
   "source": [
    "Private varible-\n",
    "->keyword does not exit in python by notation is used\n",
    "->'__' is protected notation\n",
    "->To call a protected varaible you need to use 'obj._classname__atributeName'.See cell-29\n",
    "->Adam._Person1__name  (use _dict_)"
   ]
  },
  {
   "cell_type": "code",
   "execution_count": 23,
   "metadata": {},
   "outputs": [],
   "source": [
    "class Person1:\n",
    "    def __init__(self,name,surname,year_of_birth):\n",
    "        self.__name=name\n",
    "        self.__surname=surname\n",
    "        self.__year_of_birth=year_of_birth\n",
    "        \n",
    "    def age(self,current_year):\n",
    "        return ('age is',current_year - self.__year_of_birth)\n",
    "    \n",
    "    def concatlist(b,lst1,lst2):\n",
    "        return lst1+lst2\n",
    "    \n",
    "    #inbuilt function\n",
    "    def __str__(self): \n",
    "        return '%s %s was born in %d.'%(self.__name,self.__surname,self.__year_of_birth)\n",
    "    \n"
   ]
  },
  {
   "cell_type": "code",
   "execution_count": 31,
   "metadata": {},
   "outputs": [
    {
     "name": "stdout",
     "output_type": "stream",
     "text": [
      "Nupur\n",
      "Pande\n",
      "1993\n"
     ]
    }
   ],
   "source": [
    "Adam=Person1('Nupur','Pande',1993)\n",
    "#print(Adam)\n",
    "#print(Adam.__name) #will throw error\n",
    "#Adam.__dict__ ############################# see this line ############\n",
    "#Adam.__class__name\n",
    "print(Adam._Person1__name)\n",
    "print(Adam._Person1__surname)\n",
    "print(Adam._Person1__year_of_birth)"
   ]
  },
  {
   "cell_type": "code",
   "execution_count": 34,
   "metadata": {},
   "outputs": [
    {
     "name": "stdout",
     "output_type": "stream",
     "text": [
      "{'_name': 'Parag', '_surname': 'naik', '_Person3__year_of_birth': 2020}\n",
      "dict_keys(['_name', '_surname', '_Person3__year_of_birth'])\n"
     ]
    }
   ],
   "source": [
    "class Person3:\n",
    "    def __init__(self,name,surname,year_of_birth):\n",
    "        self._name=name\n",
    "        self._surname=surname\n",
    "        self.__year_of_birth=year_of_birth\n",
    "        \n",
    "    def age(self,current_year):\n",
    "        return ('age is',current_year - self.__year_of_birth)\n",
    "    \n",
    "    def concatlist(b,lst1,lst2):\n",
    "        return lst1+lst2\n",
    "    \n",
    "    #inbuilt function\n",
    "    def __str__(self): \n",
    "        return '%s %s was born in %d.'%(self.__name,self.__surname,self.__year_of_birth)\n",
    "\n",
    "Eve=Person3('Parag',\"naik\",2020)\n",
    "print(Eve.__dict__)\n",
    "print(Eve.__dict__.keys())"
   ]
  },
  {
   "cell_type": "markdown",
   "metadata": {},
   "source": [
    "Public Private and Protect Method"
   ]
  },
  {
   "cell_type": "code",
   "execution_count": 45,
   "metadata": {},
   "outputs": [
    {
     "name": "stdout",
     "output_type": "stream",
     "text": [
      "my first name is Jonas\n",
      "My last name is Kanwald\n"
     ]
    }
   ],
   "source": [
    "class Person4:\n",
    "    def __init__(self,name,surname):\n",
    "        self._name=name\n",
    "        self.__surname=surname\n",
    "    def _firstname(self):\n",
    "        return 'my first name is {}'.format(self._name)\n",
    "    def __lastname(self):\n",
    "        return 'My last name is {}'.format(self.__surname)\n",
    "\n",
    "Martha=Person4('Jonas','Kanwald')\n",
    "print(Martha._firstname())\n",
    "print(Martha._Person4__lastname())\n",
    "    "
   ]
  },
  {
   "cell_type": "code",
   "execution_count": 51,
   "metadata": {},
   "outputs": [],
   "source": [
    "class xyz:\n",
    "    def __init__(self,a,b,c):\n",
    "        self.a=a\n",
    "        self.b=b\n",
    "        self.c=c\n",
    "    def test(self):\n",
    "        return 'This is a public method'\n",
    "    def _test1(self):\n",
    "        print('this is a protected method')\n",
    "    def __test2(self):\n",
    "        print('this is a private method')\n",
    "        "
   ]
  },
  {
   "cell_type": "code",
   "execution_count": 57,
   "metadata": {},
   "outputs": [
    {
     "name": "stdout",
     "output_type": "stream",
     "text": [
      "this is a private method\n"
     ]
    }
   ],
   "source": [
    "obj=xyz(3,4,5)\n",
    "#print(obj.test())\n",
    "#print(obj._test1())\n",
    "#print(obj._xyz__test2())\n",
    "obj._xyz__test2()"
   ]
  },
  {
   "cell_type": "code",
   "execution_count": null,
   "metadata": {},
   "outputs": [],
   "source": []
  },
  {
   "cell_type": "code",
   "execution_count": null,
   "metadata": {},
   "outputs": [],
   "source": []
  },
  {
   "cell_type": "code",
   "execution_count": null,
   "metadata": {},
   "outputs": [],
   "source": []
  },
  {
   "cell_type": "code",
   "execution_count": null,
   "metadata": {},
   "outputs": [],
   "source": []
  },
  {
   "cell_type": "code",
   "execution_count": null,
   "metadata": {},
   "outputs": [],
   "source": []
  },
  {
   "cell_type": "code",
   "execution_count": null,
   "metadata": {},
   "outputs": [],
   "source": []
  },
  {
   "cell_type": "code",
   "execution_count": null,
   "metadata": {},
   "outputs": [],
   "source": []
  },
  {
   "cell_type": "code",
   "execution_count": null,
   "metadata": {},
   "outputs": [],
   "source": []
  },
  {
   "cell_type": "code",
   "execution_count": null,
   "metadata": {},
   "outputs": [],
   "source": []
  }
 ],
 "metadata": {
  "kernelspec": {
   "display_name": "Python 3",
   "language": "python",
   "name": "python3"
  },
  "language_info": {
   "codemirror_mode": {
    "name": "ipython",
    "version": 3
   },
   "file_extension": ".py",
   "mimetype": "text/x-python",
   "name": "python",
   "nbconvert_exporter": "python",
   "pygments_lexer": "ipython3",
   "version": "3.7.6"
  }
 },
 "nbformat": 4,
 "nbformat_minor": 4
}
