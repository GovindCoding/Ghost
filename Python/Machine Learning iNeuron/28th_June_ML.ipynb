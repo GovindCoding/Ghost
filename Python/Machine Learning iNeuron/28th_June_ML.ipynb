{
 "cells": [
  {
   "cell_type": "markdown",
   "metadata": {},
   "source": [
    "Protect your abstraction\n",
    "->keyword does not exit in python by notation is used\n",
    "->'_' is protected notation\n",
    "->To call a protected varaible you need to use '__'"
   ]
  },
  {
   "cell_type": "code",
   "execution_count": 9,
   "metadata": {},
   "outputs": [],
   "source": [
    "class Person:\n",
    "    def __init__(self,name,surname,year_of_birth):\n",
    "        self._name=name\n",
    "        self._surname=surname\n",
    "        self._year_of_birth=year_of_birth\n",
    "        \n",
    "    def age(self,current_year):\n",
    "        return ('age is',current_year - self._year_of_birth)\n",
    "    \n",
    "    def concatlist(b,lst1,lst2):\n",
    "        return lst1+lst2\n",
    "    \n",
    "    #inbuilt function\n",
    "    def __str__(self): \n",
    "        return '%s %s was born in %d.'%(self._name,self._surname,self._year_of_birth)\n",
    "    \n"
   ]
  },
  {
   "cell_type": "code",
   "execution_count": 32,
   "metadata": {},
   "outputs": [
    {
     "name": "stdout",
     "output_type": "stream",
     "text": [
      "Parag Naik was born in 1994.\n",
      "Parag\n",
      "Naik\n",
      "{'_name': 'Parag', '_surname': 'Naik', '_year_of_birth': 1994}\n"
     ]
    }
   ],
   "source": [
    "alex=Person('Parag','Naik',1994)\n",
    "print(alex)\n",
    "print(alex._name)\n",
    "#print(alex.surname) #will throw an error as the variable is protected as we have not use '_'\n",
    "print(alex._surname)\n",
    "print(alex.__dict__) ###########see this line,if you have confusion #########"
   ]
  },
  {
   "cell_type": "code",
   "execution_count": null,
   "metadata": {},
   "outputs": [],
   "source": []
  },
  {
   "cell_type": "code",
   "execution_count": null,
   "metadata": {},
   "outputs": [],
   "source": [
    "Private varible-\n",
    "->keyword does not exit in python by notation is used\n",
    "->'__' is protected notation\n",
    "->To call a protected varaible you need to use 'obj._classname__atributeName'.See cell-29\n",
    "->Adam._Person1__name  (use _dict_)"
   ]
  },
  {
   "cell_type": "code",
   "execution_count": 23,
   "metadata": {},
   "outputs": [],
   "source": [
    "class Person1:\n",
    "    def __init__(self,name,surname,year_of_birth):\n",
    "        self.__name=name\n",
    "        self.__surname=surname\n",
    "        self.__year_of_birth=year_of_birth\n",
    "        \n",
    "    def age(self,current_year):\n",
    "        return ('age is',current_year - self.__year_of_birth)\n",
    "    \n",
    "    def concatlist(b,lst1,lst2):\n",
    "        return lst1+lst2\n",
    "    \n",
    "    #inbuilt function\n",
    "    def __str__(self): \n",
    "        return '%s %s was born in %d.'%(self.__name,self.__surname,self.__year_of_birth)\n",
    "    \n"
   ]
  },
  {
   "cell_type": "code",
   "execution_count": 31,
   "metadata": {},
   "outputs": [
    {
     "name": "stdout",
     "output_type": "stream",
     "text": [
      "Nupur\n",
      "Pande\n",
      "1993\n"
     ]
    }
   ],
   "source": [
    "Adam=Person1('Nupur','Pande',1993)\n",
    "#print(Adam)\n",
    "#print(Adam.__name) #will throw error\n",
    "#Adam.__dict__ ############################# see this line ############\n",
    "#Adam.__class__name\n",
    "print(Adam._Person1__name)\n",
    "print(Adam._Person1__surname)\n",
    "print(Adam._Person1__year_of_birth)"
   ]
  },
  {
   "cell_type": "code",
   "execution_count": 34,
   "metadata": {},
   "outputs": [
    {
     "name": "stdout",
     "output_type": "stream",
     "text": [
      "{'_name': 'Parag', '_surname': 'naik', '_Person3__year_of_birth': 2020}\n",
      "dict_keys(['_name', '_surname', '_Person3__year_of_birth'])\n"
     ]
    }
   ],
   "source": [
    "class Person3:\n",
    "    def __init__(self,name,surname,year_of_birth):\n",
    "        self._name=name\n",
    "        self._surname=surname\n",
    "        self.__year_of_birth=year_of_birth\n",
    "        \n",
    "    def age(self,current_year):\n",
    "        return ('age is',current_year - self.__year_of_birth)\n",
    "    \n",
    "    def concatlist(b,lst1,lst2):\n",
    "        return lst1+lst2\n",
    "    \n",
    "    #inbuilt function\n",
    "    def __str__(self): \n",
    "        return '%s %s was born in %d.'%(self.__name,self.__surname,self.__year_of_birth)\n",
    "\n",
    "Eve=Person3('Parag',\"naik\",2020)\n",
    "print(Eve.__dict__)\n",
    "print(Eve.__dict__.keys())"
   ]
  },
  {
   "cell_type": "markdown",
   "metadata": {},
   "source": [
    "Public Private and Protect Method"
   ]
  },
  {
   "cell_type": "code",
   "execution_count": 45,
   "metadata": {},
   "outputs": [
    {
     "name": "stdout",
     "output_type": "stream",
     "text": [
      "my first name is Jonas\n",
      "My last name is Kanwald\n"
     ]
    }
   ],
   "source": [
    "class Person4:\n",
    "    def __init__(self,name,surname):\n",
    "        self._name=name\n",
    "        self.__surname=surname\n",
    "    def _firstname(self):\n",
    "        return 'my first name is {}'.format(self._name)\n",
    "    def __lastname(self):\n",
    "        return 'My last name is {}'.format(self.__surname)\n",
    "\n",
    "Martha=Person4('Jonas','Kanwald')\n",
    "print(Martha._firstname())\n",
    "print(Martha._Person4__lastname())\n",
    "    "
   ]
  },
  {
   "cell_type": "code",
   "execution_count": 51,
   "metadata": {},
   "outputs": [],
   "source": [
    "class xyz:\n",
    "    def __init__(self,a,b,c):\n",
    "        self.a=a\n",
    "        self.b=b\n",
    "        self.c=c\n",
    "    def test(self):\n",
    "        return 'This is a public method'\n",
    "    def _test1(self):\n",
    "        print('this is a protected method')\n",
    "    def __test2(self):\n",
    "        print('this is a private method')\n",
    "        "
   ]
  },
  {
   "cell_type": "code",
   "execution_count": 57,
   "metadata": {},
   "outputs": [
    {
     "name": "stdout",
     "output_type": "stream",
     "text": [
      "this is a private method\n"
     ]
    }
   ],
   "source": [
    "obj=xyz(3,4,5)\n",
    "#print(obj.test())\n",
    "#print(obj._test1())\n",
    "#print(obj._xyz__test2())\n",
    "obj._xyz__test2()"
   ]
  },
  {
   "cell_type": "markdown",
   "metadata": {},
   "source": [
    "Example of Private,Public,Protected"
   ]
  },
  {
   "cell_type": "code",
   "execution_count": 1,
   "metadata": {},
   "outputs": [],
   "source": [
    "class Information:\n",
    "    def __init__(self,firstname,surname,age,DOB,PAN_no):\n",
    "        self.firstname=firstname\n",
    "        self.surname=surname\n",
    "        self._age=age\n",
    "        self._DOB=DOB\n",
    "        self.__PAN_no=PAN_no\n",
    "        \n",
    "    def basic_information(self):\n",
    "        print(\"My Name is {} {}\".format(self.firstname,self.surname))\n",
    "    def _first_level_information(self):\n",
    "        print('Age of {} {} is {}'.format(self.firstname,self.surname,self._age))\n",
    "        \n",
    "    def __Personnal_information(self):\n",
    "        print('Pan no of {} {},whose age is {} born on {} is {}'.format(self.firstname,self.surname,self._age,self._DOB,self.__PAN_no))\n",
    "        "
   ]
  },
  {
   "cell_type": "code",
   "execution_count": 2,
   "metadata": {},
   "outputs": [
    {
     "name": "stdout",
     "output_type": "stream",
     "text": [
      "Pan no of Parag Naik,whose age is 26 born on 18081994 is AUYPN006J\n"
     ]
    }
   ],
   "source": [
    "Parag=Information('Parag','Naik',26,18081994,'AUYPN006J')\n",
    "#Parag.basic_information()\n",
    "#Parag.firstname\n",
    "#Parag.surname\n",
    "#Parag.basic_information()\n",
    "#Parag._first_level_information()\n",
    "Parag._Information__Personnal_information()"
   ]
  },
  {
   "cell_type": "markdown",
   "metadata": {},
   "source": [
    "Inheritance"
   ]
  },
  {
   "cell_type": "code",
   "execution_count": 3,
   "metadata": {},
   "outputs": [
    {
     "data": {
      "text/plain": [
       "4"
      ]
     },
     "execution_count": 3,
     "metadata": {},
     "output_type": "execute_result"
    }
   ],
   "source": [
    "class xyz:\n",
    "    def __init__(self,a,b,c=1):\n",
    "        self.a=a\n",
    "        self.b=b\n",
    "        self.c=c\n",
    "    def test(self):\n",
    "        return 'this is a public method'\n",
    "    \n",
    "obj=xyz(4,5,6)\n",
    "obj.a"
   ]
  },
  {
   "cell_type": "code",
   "execution_count": 4,
   "metadata": {},
   "outputs": [],
   "source": [
    "class abc(xyz): #abc class is child class and inherit the test method through obj of abc\n",
    "    pass"
   ]
  },
  {
   "cell_type": "code",
   "execution_count": 5,
   "metadata": {},
   "outputs": [
    {
     "data": {
      "text/plain": [
       "'this is a public method'"
      ]
     },
     "execution_count": 5,
     "metadata": {},
     "output_type": "execute_result"
    }
   ],
   "source": [
    "obj1=abc(6,7,5) #use the first class abc with pass in cell 41\n",
    "obj1.test()"
   ]
  },
  {
   "cell_type": "code",
   "execution_count": null,
   "metadata": {},
   "outputs": [],
   "source": []
  },
  {
   "cell_type": "code",
   "execution_count": 7,
   "metadata": {},
   "outputs": [],
   "source": [
    "class xyz1:\n",
    "    def __init__(self,a,b,c=1):\n",
    "        self.a=a\n",
    "        self.b=b\n",
    "        self.c=c\n",
    "    def test(self):\n",
    "        return 'this is a public method'"
   ]
  },
  {
   "cell_type": "code",
   "execution_count": 8,
   "metadata": {},
   "outputs": [],
   "source": [
    "class abc1(xyz1):\n",
    "    def __init__(self,a,b):\n",
    "        xyz1.__init__(self,a,b)       \n",
    "        #super(abc,self).__init__(a,b)       \n",
    "        #self.d=d\n",
    "        #self.n=n\n",
    "        #self.a=a\n",
    "        #self.b=b"
   ]
  },
  {
   "cell_type": "code",
   "execution_count": 9,
   "metadata": {},
   "outputs": [
    {
     "name": "stdout",
     "output_type": "stream",
     "text": [
      "parag\n"
     ]
    }
   ],
   "source": [
    "obj2=abc('parag','naik')\n",
    "#obj2.d\n",
    "print(obj2.a)"
   ]
  },
  {
   "cell_type": "markdown",
   "metadata": {},
   "source": [
    "Multiple inheritance"
   ]
  },
  {
   "cell_type": "code",
   "execution_count": 10,
   "metadata": {},
   "outputs": [
    {
     "name": "stdout",
     "output_type": "stream",
     "text": [
      "In class A\n",
      "In class B\n"
     ]
    }
   ],
   "source": [
    "class A:\n",
    "    def test1(self):\n",
    "        print('In class A')\n",
    "\n",
    "class B():\n",
    "    def test1(self):\n",
    "        print('In class B')\n",
    "\n",
    "class C(B,A):\n",
    "    obja=A()\n",
    "    objb=B()\n",
    "    obja.test1()\n",
    "    objb.test1()"
   ]
  },
  {
   "cell_type": "markdown",
   "metadata": {},
   "source": [
    "Multi-Level inheratiance"
   ]
  },
  {
   "cell_type": "code",
   "execution_count": 11,
   "metadata": {},
   "outputs": [
    {
     "name": "stdout",
     "output_type": "stream",
     "text": [
      "In class A\n",
      "In class B\n",
      "In lass C\n",
      "In class A\n"
     ]
    }
   ],
   "source": [
    "class A:\n",
    "    def abc(self):\n",
    "        return ('In class A')\n",
    "class B(A):\n",
    "    def xyz(self):\n",
    "        return ('In class B')\n",
    "class C(B):\n",
    "    def pqr(self):\n",
    "        return ('In lass C')\n",
    "        \n",
    "objc=C()\n",
    "obja=A()\n",
    "print(objc.abc())\n",
    "print(objc.xyz())\n",
    "print(objc.pqr())\n",
    "\n",
    "print(obja.abc())\n",
    "#print(obja.pqr()) #will throw error"
   ]
  },
  {
   "cell_type": "markdown",
   "metadata": {},
   "source": [
    "Overriding method"
   ]
  },
  {
   "cell_type": "code",
   "execution_count": 12,
   "metadata": {},
   "outputs": [
    {
     "name": "stdout",
     "output_type": "stream",
     "text": [
      "In class B 10\n",
      "None\n",
      "this is class A 10\n",
      "None\n"
     ]
    }
   ],
   "source": [
    "class A:\n",
    "    def test(self,a=5):\n",
    "        print('this is class A',a)\n",
    "class B(A):\n",
    "    def test(self,a=10):\n",
    "        print('In class B',a)\n",
    "obj=B()\n",
    "obja=A()\n",
    "print(obj.test(10))\n",
    "print(obja.test(10))"
   ]
  },
  {
   "cell_type": "code",
   "execution_count": null,
   "metadata": {},
   "outputs": [],
   "source": []
  }
 ],
 "metadata": {
  "kernelspec": {
   "display_name": "Python 3",
   "language": "python",
   "name": "python3"
  },
  "language_info": {
   "codemirror_mode": {
    "name": "ipython",
    "version": 3
   },
   "file_extension": ".py",
   "mimetype": "text/x-python",
   "name": "python",
   "nbconvert_exporter": "python",
   "pygments_lexer": "ipython3",
   "version": "3.7.6"
  }
 },
 "nbformat": 4,
 "nbformat_minor": 4
}
